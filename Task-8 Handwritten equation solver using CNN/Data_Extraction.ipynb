{
  "nbformat": 4,
  "nbformat_minor": 5,
  "metadata": {
    "kernelspec": {
      "display_name": "Python 3 (ipykernel)",
      "language": "python",
      "name": "python3"
    },
    "language_info": {
      "codemirror_mode": {
        "name": "ipython",
        "version": 3
      },
      "file_extension": ".py",
      "mimetype": "text/x-python",
      "name": "python",
      "nbconvert_exporter": "python",
      "pygments_lexer": "ipython3",
      "version": "3.8.10"
    },
    "colab": {
      "name": "Data Extraction.ipynb",
      "provenance": []
    }
  },
  "cells": [
    {
      "cell_type": "markdown",
      "metadata": {
        "id": "8f5c43ce"
      },
      "source": [
        "# LetsGrowMore Data Science Internship"
      ],
      "id": "8f5c43ce"
    },
    {
      "cell_type": "markdown",
      "metadata": {
        "id": "2490d521"
      },
      "source": [
        "## Task9 - Handwritten equation solver using CNN"
      ],
      "id": "2490d521"
    },
    {
      "cell_type": "markdown",
      "metadata": {
        "id": "7c4f48d7"
      },
      "source": [
        "### Author : Papathoti Solomon Leo"
      ],
      "id": "7c4f48d7"
    },
    {
      "cell_type": "markdown",
      "metadata": {
        "id": "c0975f08"
      },
      "source": [
        "### Part1- Data Extraction"
      ],
      "id": "c0975f08"
    },
    {
      "cell_type": "markdown",
      "metadata": {
        "id": "c2ea317d"
      },
      "source": [
        "#### Importing Libraries"
      ],
      "id": "c2ea317d"
    },
    {
      "cell_type": "code",
      "metadata": {
        "id": "6923f3a7"
      },
      "source": [
        "import numpy as np\n",
        "import cv2\n",
        "from PIL import Image\n",
        "from matplotlib import pyplot as plt\n",
        "%matplotlib inline\n",
        "import os\n",
        "from os import listdir\n",
        "from os.path import isfile, join\n",
        "import pandas as pd"
      ],
      "id": "6923f3a7",
      "execution_count": null,
      "outputs": []
    },
    {
      "cell_type": "code",
      "metadata": {
        "id": "9045c75a"
      },
      "source": [
        "def load_images_from_folder(folder):\n",
        "    train_data=[]\n",
        "    for filename in os.listdir(folder):\n",
        "        img = cv2.imread(os.path.join(folder,filename),cv2.IMREAD_GRAYSCALE)\n",
        "        img=~img\n",
        "        if img is not None:\n",
        "            ret,thresh=cv2.threshold(img,127,255,cv2.THRESH_BINARY)\n",
        "\n",
        "            ctrs,ret=cv2.findContours(thresh,cv2.RETR_EXTERNAL,cv2.CHAIN_APPROX_NONE)\n",
        "            cnt=sorted(ctrs, key=lambda ctr: cv2.boundingRect(ctr)[0])\n",
        "            w=int(28)\n",
        "            h=int(28)\n",
        "            maxi=0\n",
        "            for c in cnt:\n",
        "                x,y,w,h=cv2.boundingRect(c)\n",
        "                maxi=max(w*h,maxi)\n",
        "                if maxi==w*h:\n",
        "                    x_max=x\n",
        "                    y_max=y\n",
        "                    w_max=w\n",
        "                    h_max=h\n",
        "            im_crop= thresh[y_max:y_max+h_max+10, x_max:x_max+w_max+10]\n",
        "            im_resize = cv2.resize(im_crop,(28,28))\n",
        "            im_resize=np.reshape(im_resize,(784,1))\n",
        "            train_data.append(im_resize)\n",
        "    return train_data"
      ],
      "id": "9045c75a",
      "execution_count": null,
      "outputs": []
    },
    {
      "cell_type": "code",
      "metadata": {
        "id": "efcd1459"
      },
      "source": [
        "data=[]"
      ],
      "id": "efcd1459",
      "execution_count": null,
      "outputs": []
    },
    {
      "cell_type": "markdown",
      "metadata": {
        "id": "a263481c"
      },
      "source": [
        "#### Assign  '-' = 10"
      ],
      "id": "a263481c"
    },
    {
      "cell_type": "code",
      "metadata": {
        "id": "8mCYqOL-ha1R"
      },
      "source": [
        "data=load_images_from_folder('//home//solomon//Documents//LGMVIP//Task9- equation solver//-//')\n",
        "len(data)\n",
        "for i in range(0,len(data)):\n",
        "    data[i]=np.append(data[i],['10'])\n",
        "    \n",
        "print(len(data))"
      ],
      "id": "8mCYqOL-ha1R",
      "execution_count": null,
      "outputs": []
    },
    {
      "cell_type": "markdown",
      "metadata": {
        "id": "05da044b"
      },
      "source": [
        "#### Assign + = 11"
      ],
      "id": "05da044b"
    },
    {
      "cell_type": "code",
      "metadata": {
        "id": "9652eb12",
        "outputId": "0691dbad-2dad-44ae-ebaf-b3c6a39f88d8"
      },
      "source": [
        "data11=load_images_from_folder('//home//solomon//Documents//LGMVIP//Task9- equation solver//+//')\n",
        "\n",
        "for i in range(0,len(data11)):\n",
        "    data11[i]=np.append(data11[i],['11'])\n",
        "data=np.concatenate((data,data11))\n",
        "print(len(data))"
      ],
      "id": "9652eb12",
      "execution_count": null,
      "outputs": [
        {
          "name": "stdout",
          "output_type": "stream",
          "text": [
            "8184\n"
          ]
        }
      ]
    },
    {
      "cell_type": "code",
      "metadata": {
        "id": "21638200",
        "outputId": "ab60b7f8-b444-491d-9a9c-9398bca11d57"
      },
      "source": [
        "data0=load_images_from_folder('//home//solomon//Documents//LGMVIP//Task9- equation solver//0//')\n",
        "\n",
        "for i in range(0,len(data0)):\n",
        "    data0[i]=np.append(data0[i],['0'])\n",
        "data=np.concatenate((data,data0))\n",
        "print(len(data))"
      ],
      "id": "21638200",
      "execution_count": null,
      "outputs": [
        {
          "name": "stdout",
          "output_type": "stream",
          "text": [
            "12018\n"
          ]
        }
      ]
    },
    {
      "cell_type": "code",
      "metadata": {
        "id": "ce7b6a7e",
        "outputId": "b7f0d90b-46bd-4e24-e61e-e782a8af7a84"
      },
      "source": [
        "data1=load_images_from_folder('//home//solomon//Documents//LGMVIP//Task9- equation solver//1//')\n",
        "\n",
        "for i in range(0,len(data1)):\n",
        "    data1[i]=np.append(data1[i],['1'])\n",
        "data=np.concatenate((data,data1))\n",
        "print(len(data))"
      ],
      "id": "ce7b6a7e",
      "execution_count": null,
      "outputs": [
        {
          "name": "stdout",
          "output_type": "stream",
          "text": [
            "16074\n"
          ]
        }
      ]
    },
    {
      "cell_type": "code",
      "metadata": {
        "id": "9626cda5",
        "outputId": "aecaa7ca-dc98-4512-885f-a6c442ecc6d6"
      },
      "source": [
        "data2=load_images_from_folder('//home//solomon//Documents//LGMVIP//Task9- equation solver//2//')\n",
        "\n",
        "for i in range(0,len(data2)):\n",
        "    data2[i]=np.append(data2[i],['2'])\n",
        "data=np.concatenate((data,data2))\n",
        "print(len(data))"
      ],
      "id": "9626cda5",
      "execution_count": null,
      "outputs": [
        {
          "name": "stdout",
          "output_type": "stream",
          "text": [
            "20334\n"
          ]
        }
      ]
    },
    {
      "cell_type": "code",
      "metadata": {
        "id": "fbaa56dc",
        "outputId": "d784ef18-52b7-4280-a1e0-b845e0bf2827"
      },
      "source": [
        "data3=load_images_from_folder('//home//solomon//Documents//LGMVIP//Task9- equation solver//3//')\n",
        "\n",
        "for i in range(0,len(data3)):\n",
        "    data3[i]=np.append(data3[i],['3'])\n",
        "data=np.concatenate((data,data3))\n",
        "print(len(data))"
      ],
      "id": "fbaa56dc",
      "execution_count": null,
      "outputs": [
        {
          "name": "stdout",
          "output_type": "stream",
          "text": [
            "23850\n"
          ]
        }
      ]
    },
    {
      "cell_type": "code",
      "metadata": {
        "id": "18981616",
        "outputId": "e24559c8-0d69-4270-d1d5-794e8c197372"
      },
      "source": [
        "data4=load_images_from_folder('//home//solomon//Documents//LGMVIP//Task9- equation solver//4//')\n",
        "\n",
        "for i in range(0,len(data4)):\n",
        "    data4[i]=np.append(data4[i],['4'])\n",
        "data=np.concatenate((data,data4))\n",
        "print(len(data))                                                                                                               "
      ],
      "id": "18981616",
      "execution_count": null,
      "outputs": [
        {
          "name": "stdout",
          "output_type": "stream",
          "text": [
            "27882\n"
          ]
        }
      ]
    },
    {
      "cell_type": "code",
      "metadata": {
        "id": "acb3ffe4",
        "outputId": "1f91889b-f576-430b-bfce-44040f4f0cd8"
      },
      "source": [
        "data5=load_images_from_folder('//home//solomon//Documents//LGMVIP//Task9- equation solver//5//')\n",
        "\n",
        "for i in range(0,len(data5)):\n",
        "    data5[i]=np.append(data5[i],['5'])\n",
        "data=np.concatenate((data,data5))\n",
        "print(len(data))"
      ],
      "id": "acb3ffe4",
      "execution_count": null,
      "outputs": [
        {
          "name": "stdout",
          "output_type": "stream",
          "text": [
            "31426\n"
          ]
        }
      ]
    },
    {
      "cell_type": "code",
      "metadata": {
        "id": "ea86450d",
        "outputId": "a0b8ac8c-23aa-4c9d-97e3-96aa078f6232"
      },
      "source": [
        "data6=load_images_from_folder('//home//solomon//Documents//LGMVIP//Task9- equation solver//6//')\n",
        "\n",
        "for i in range(0,len(data6)):\n",
        "    data6[i]=np.append(data6[i],['6'])\n",
        "data=np.concatenate((data,data6))\n",
        "print(len(data))"
      ],
      "id": "ea86450d",
      "execution_count": null,
      "outputs": [
        {
          "name": "stdout",
          "output_type": "stream",
          "text": [
            "34543\n"
          ]
        }
      ]
    },
    {
      "cell_type": "code",
      "metadata": {
        "id": "bad3e2c9",
        "outputId": "8773e5b8-a83c-4e93-a586-d6b04d685b13"
      },
      "source": [
        "data7=load_images_from_folder('//home//solomon//Documents//LGMVIP//Task9- equation solver//7//')\n",
        "\n",
        "for i in range(0,len(data7)):\n",
        "    data7[i]=np.append(data7[i],['7'])\n",
        "data=np.concatenate((data,data7))\n",
        "print(len(data))"
      ],
      "id": "bad3e2c9",
      "execution_count": null,
      "outputs": [
        {
          "name": "stdout",
          "output_type": "stream",
          "text": [
            "37451\n"
          ]
        }
      ]
    },
    {
      "cell_type": "code",
      "metadata": {
        "id": "33df6811",
        "outputId": "16b3827b-7aa3-4c9a-9350-adf058a3a43f"
      },
      "source": [
        "data8=load_images_from_folder('//home//solomon//Documents//LGMVIP//Task9- equation solver//8//')\n",
        "\n",
        "for i in range(0,len(data8)):\n",
        "    data8[i]=np.append(data8[i],['8'])\n",
        "data=np.concatenate((data,data8))\n",
        "print(len(data))"
      ],
      "id": "33df6811",
      "execution_count": null,
      "outputs": [
        {
          "name": "stdout",
          "output_type": "stream",
          "text": [
            "40518\n"
          ]
        }
      ]
    },
    {
      "cell_type": "code",
      "metadata": {
        "id": "25698017",
        "outputId": "4c3979fc-5f2d-4b61-c74c-c8f5c9c10d4e"
      },
      "source": [
        "data9=load_images_from_folder('//home//solomon//Documents//LGMVIP//Task9- equation solver//9//')\n",
        "\n",
        "for i in range(0,len(data9)):\n",
        "    data9[i]=np.append(data9[i],['9'])\n",
        "data=np.concatenate((data,data9))\n",
        "print(len(data))"
      ],
      "id": "25698017",
      "execution_count": null,
      "outputs": [
        {
          "name": "stdout",
          "output_type": "stream",
          "text": [
            "44254\n"
          ]
        }
      ]
    },
    {
      "cell_type": "code",
      "metadata": {
        "id": "c433d0cb",
        "outputId": "9b70020d-4cd3-4a6d-98cd-0a475956b077"
      },
      "source": [
        "data12=load_images_from_folder('//home//solomon//Documents//LGMVIP//Task9- equation solver//times//')\n",
        "\n",
        "for i in range(0,len(data12)):\n",
        "    data12[i]=np.append(data12[i],['12'])\n",
        "data=np.concatenate((data,data12))\n",
        "print(len(data))"
      ],
      "id": "c433d0cb",
      "execution_count": null,
      "outputs": [
        {
          "name": "stdout",
          "output_type": "stream",
          "text": [
            "47504\n"
          ]
        }
      ]
    },
    {
      "cell_type": "code",
      "metadata": {
        "id": "a275061a"
      },
      "source": [
        "df=pd.DataFrame(data,index=None)\n",
        "df.to_csv('train_final.csv',index=False)"
      ],
      "id": "a275061a",
      "execution_count": null,
      "outputs": []
    }
  ]
}