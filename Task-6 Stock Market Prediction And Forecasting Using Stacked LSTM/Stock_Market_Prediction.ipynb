{
  "nbformat": 4,
  "nbformat_minor": 0,
  "metadata": {
    "colab": {
      "name": "Stock Market Prediction.ipynb",
      "provenance": []
    },
    "kernelspec": {
      "name": "python3",
      "display_name": "Python 3"
    },
    "language_info": {
      "name": "python"
    },
    "accelerator": "GPU"
  },
  "cells": [
    {
      "cell_type": "markdown",
      "metadata": {
        "id": "tnvigXkJBVEc"
      },
      "source": [
        "#LGM-VIP Data Science Internship"
      ]
    },
    {
      "cell_type": "markdown",
      "metadata": {
        "id": "fJNTkcYvBa-O"
      },
      "source": [
        "##Task 6 - Stock Market Prediction And Forecasting Using Stacked LSTM"
      ]
    },
    {
      "cell_type": "markdown",
      "metadata": {
        "id": "5ZtZMAjxBgDX"
      },
      "source": [
        "Author - Papathoti Solomon Leo"
      ]
    },
    {
      "cell_type": "markdown",
      "metadata": {
        "id": "NBQXugdUBljy"
      },
      "source": [
        "### Importing the necessary libraries"
      ]
    },
    {
      "cell_type": "code",
      "metadata": {
        "id": "AgabKmrWBFeQ"
      },
      "source": [
        "import pandas as pd\n",
        "import matplotlib.pyplot as plt\n",
        "import numpy as np\n",
        "from sklearn.preprocessing import MinMaxScaler"
      ],
      "execution_count": 3,
      "outputs": []
    },
    {
      "cell_type": "markdown",
      "metadata": {
        "id": "3vPrjjiXB5dE"
      },
      "source": [
        "###Data processing"
      ]
    },
    {
      "cell_type": "code",
      "metadata": {
        "id": "K66d6_-IB-F9"
      },
      "source": [
        "data = pd.read_csv('https://raw.githubusercontent.com/mwitiderrick/stockprice/master/NSE-TATAGLOBAL.csv')"
      ],
      "execution_count": 4,
      "outputs": []
    },
    {
      "cell_type": "code",
      "metadata": {
        "colab": {
          "base_uri": "https://localhost:8080/",
          "height": 206
        },
        "id": "WEwVSsCUDrmK",
        "outputId": "7214989d-9f48-4feb-ee23-05fb33f4a8d9"
      },
      "source": [
        "data.head()"
      ],
      "execution_count": 5,
      "outputs": [
        {
          "output_type": "execute_result",
          "data": {
            "text/html": [
              "<div>\n",
              "<style scoped>\n",
              "    .dataframe tbody tr th:only-of-type {\n",
              "        vertical-align: middle;\n",
              "    }\n",
              "\n",
              "    .dataframe tbody tr th {\n",
              "        vertical-align: top;\n",
              "    }\n",
              "\n",
              "    .dataframe thead th {\n",
              "        text-align: right;\n",
              "    }\n",
              "</style>\n",
              "<table border=\"1\" class=\"dataframe\">\n",
              "  <thead>\n",
              "    <tr style=\"text-align: right;\">\n",
              "      <th></th>\n",
              "      <th>Date</th>\n",
              "      <th>Open</th>\n",
              "      <th>High</th>\n",
              "      <th>Low</th>\n",
              "      <th>Last</th>\n",
              "      <th>Close</th>\n",
              "      <th>Total Trade Quantity</th>\n",
              "      <th>Turnover (Lacs)</th>\n",
              "    </tr>\n",
              "  </thead>\n",
              "  <tbody>\n",
              "    <tr>\n",
              "      <th>0</th>\n",
              "      <td>2018-09-28</td>\n",
              "      <td>234.05</td>\n",
              "      <td>235.95</td>\n",
              "      <td>230.20</td>\n",
              "      <td>233.50</td>\n",
              "      <td>233.75</td>\n",
              "      <td>3069914</td>\n",
              "      <td>7162.35</td>\n",
              "    </tr>\n",
              "    <tr>\n",
              "      <th>1</th>\n",
              "      <td>2018-09-27</td>\n",
              "      <td>234.55</td>\n",
              "      <td>236.80</td>\n",
              "      <td>231.10</td>\n",
              "      <td>233.80</td>\n",
              "      <td>233.25</td>\n",
              "      <td>5082859</td>\n",
              "      <td>11859.95</td>\n",
              "    </tr>\n",
              "    <tr>\n",
              "      <th>2</th>\n",
              "      <td>2018-09-26</td>\n",
              "      <td>240.00</td>\n",
              "      <td>240.00</td>\n",
              "      <td>232.50</td>\n",
              "      <td>235.00</td>\n",
              "      <td>234.25</td>\n",
              "      <td>2240909</td>\n",
              "      <td>5248.60</td>\n",
              "    </tr>\n",
              "    <tr>\n",
              "      <th>3</th>\n",
              "      <td>2018-09-25</td>\n",
              "      <td>233.30</td>\n",
              "      <td>236.75</td>\n",
              "      <td>232.00</td>\n",
              "      <td>236.25</td>\n",
              "      <td>236.10</td>\n",
              "      <td>2349368</td>\n",
              "      <td>5503.90</td>\n",
              "    </tr>\n",
              "    <tr>\n",
              "      <th>4</th>\n",
              "      <td>2018-09-24</td>\n",
              "      <td>233.55</td>\n",
              "      <td>239.20</td>\n",
              "      <td>230.75</td>\n",
              "      <td>234.00</td>\n",
              "      <td>233.30</td>\n",
              "      <td>3423509</td>\n",
              "      <td>7999.55</td>\n",
              "    </tr>\n",
              "  </tbody>\n",
              "</table>\n",
              "</div>"
            ],
            "text/plain": [
              "         Date    Open    High  ...   Close  Total Trade Quantity  Turnover (Lacs)\n",
              "0  2018-09-28  234.05  235.95  ...  233.75               3069914          7162.35\n",
              "1  2018-09-27  234.55  236.80  ...  233.25               5082859         11859.95\n",
              "2  2018-09-26  240.00  240.00  ...  234.25               2240909          5248.60\n",
              "3  2018-09-25  233.30  236.75  ...  236.10               2349368          5503.90\n",
              "4  2018-09-24  233.55  239.20  ...  233.30               3423509          7999.55\n",
              "\n",
              "[5 rows x 8 columns]"
            ]
          },
          "metadata": {},
          "execution_count": 5
        }
      ]
    },
    {
      "cell_type": "code",
      "metadata": {
        "colab": {
          "base_uri": "https://localhost:8080/",
          "height": 206
        },
        "id": "bZSyK4yDDzR6",
        "outputId": "7eea196e-ba9c-44ad-a25f-d47addd75e6b"
      },
      "source": [
        "data.tail()"
      ],
      "execution_count": 6,
      "outputs": [
        {
          "output_type": "execute_result",
          "data": {
            "text/html": [
              "<div>\n",
              "<style scoped>\n",
              "    .dataframe tbody tr th:only-of-type {\n",
              "        vertical-align: middle;\n",
              "    }\n",
              "\n",
              "    .dataframe tbody tr th {\n",
              "        vertical-align: top;\n",
              "    }\n",
              "\n",
              "    .dataframe thead th {\n",
              "        text-align: right;\n",
              "    }\n",
              "</style>\n",
              "<table border=\"1\" class=\"dataframe\">\n",
              "  <thead>\n",
              "    <tr style=\"text-align: right;\">\n",
              "      <th></th>\n",
              "      <th>Date</th>\n",
              "      <th>Open</th>\n",
              "      <th>High</th>\n",
              "      <th>Low</th>\n",
              "      <th>Last</th>\n",
              "      <th>Close</th>\n",
              "      <th>Total Trade Quantity</th>\n",
              "      <th>Turnover (Lacs)</th>\n",
              "    </tr>\n",
              "  </thead>\n",
              "  <tbody>\n",
              "    <tr>\n",
              "      <th>2030</th>\n",
              "      <td>2010-07-27</td>\n",
              "      <td>117.6</td>\n",
              "      <td>119.50</td>\n",
              "      <td>112.00</td>\n",
              "      <td>118.80</td>\n",
              "      <td>118.65</td>\n",
              "      <td>586100</td>\n",
              "      <td>694.98</td>\n",
              "    </tr>\n",
              "    <tr>\n",
              "      <th>2031</th>\n",
              "      <td>2010-07-26</td>\n",
              "      <td>120.1</td>\n",
              "      <td>121.00</td>\n",
              "      <td>117.10</td>\n",
              "      <td>117.10</td>\n",
              "      <td>117.60</td>\n",
              "      <td>658440</td>\n",
              "      <td>780.01</td>\n",
              "    </tr>\n",
              "    <tr>\n",
              "      <th>2032</th>\n",
              "      <td>2010-07-23</td>\n",
              "      <td>121.8</td>\n",
              "      <td>121.95</td>\n",
              "      <td>120.25</td>\n",
              "      <td>120.35</td>\n",
              "      <td>120.65</td>\n",
              "      <td>281312</td>\n",
              "      <td>340.31</td>\n",
              "    </tr>\n",
              "    <tr>\n",
              "      <th>2033</th>\n",
              "      <td>2010-07-22</td>\n",
              "      <td>120.3</td>\n",
              "      <td>122.00</td>\n",
              "      <td>120.25</td>\n",
              "      <td>120.75</td>\n",
              "      <td>120.90</td>\n",
              "      <td>293312</td>\n",
              "      <td>355.17</td>\n",
              "    </tr>\n",
              "    <tr>\n",
              "      <th>2034</th>\n",
              "      <td>2010-07-21</td>\n",
              "      <td>122.1</td>\n",
              "      <td>123.00</td>\n",
              "      <td>121.05</td>\n",
              "      <td>121.10</td>\n",
              "      <td>121.55</td>\n",
              "      <td>658666</td>\n",
              "      <td>803.56</td>\n",
              "    </tr>\n",
              "  </tbody>\n",
              "</table>\n",
              "</div>"
            ],
            "text/plain": [
              "            Date   Open    High  ...   Close  Total Trade Quantity  Turnover (Lacs)\n",
              "2030  2010-07-27  117.6  119.50  ...  118.65                586100           694.98\n",
              "2031  2010-07-26  120.1  121.00  ...  117.60                658440           780.01\n",
              "2032  2010-07-23  121.8  121.95  ...  120.65                281312           340.31\n",
              "2033  2010-07-22  120.3  122.00  ...  120.90                293312           355.17\n",
              "2034  2010-07-21  122.1  123.00  ...  121.55                658666           803.56\n",
              "\n",
              "[5 rows x 8 columns]"
            ]
          },
          "metadata": {},
          "execution_count": 6
        }
      ]
    },
    {
      "cell_type": "code",
      "metadata": {
        "colab": {
          "base_uri": "https://localhost:8080/",
          "height": 206
        },
        "id": "Yce266qyD9tR",
        "outputId": "e0fac4f3-642c-40f3-b5f6-7430cb82b693"
      },
      "source": [
        "#Sort the dataset according to the date\n",
        "data['Date'] = pd.to_datetime(data['Date'])\n",
        "df = data.sort_values(by='Date')\n",
        "df.head()"
      ],
      "execution_count": 7,
      "outputs": [
        {
          "output_type": "execute_result",
          "data": {
            "text/html": [
              "<div>\n",
              "<style scoped>\n",
              "    .dataframe tbody tr th:only-of-type {\n",
              "        vertical-align: middle;\n",
              "    }\n",
              "\n",
              "    .dataframe tbody tr th {\n",
              "        vertical-align: top;\n",
              "    }\n",
              "\n",
              "    .dataframe thead th {\n",
              "        text-align: right;\n",
              "    }\n",
              "</style>\n",
              "<table border=\"1\" class=\"dataframe\">\n",
              "  <thead>\n",
              "    <tr style=\"text-align: right;\">\n",
              "      <th></th>\n",
              "      <th>Date</th>\n",
              "      <th>Open</th>\n",
              "      <th>High</th>\n",
              "      <th>Low</th>\n",
              "      <th>Last</th>\n",
              "      <th>Close</th>\n",
              "      <th>Total Trade Quantity</th>\n",
              "      <th>Turnover (Lacs)</th>\n",
              "    </tr>\n",
              "  </thead>\n",
              "  <tbody>\n",
              "    <tr>\n",
              "      <th>2034</th>\n",
              "      <td>2010-07-21</td>\n",
              "      <td>122.1</td>\n",
              "      <td>123.00</td>\n",
              "      <td>121.05</td>\n",
              "      <td>121.10</td>\n",
              "      <td>121.55</td>\n",
              "      <td>658666</td>\n",
              "      <td>803.56</td>\n",
              "    </tr>\n",
              "    <tr>\n",
              "      <th>2033</th>\n",
              "      <td>2010-07-22</td>\n",
              "      <td>120.3</td>\n",
              "      <td>122.00</td>\n",
              "      <td>120.25</td>\n",
              "      <td>120.75</td>\n",
              "      <td>120.90</td>\n",
              "      <td>293312</td>\n",
              "      <td>355.17</td>\n",
              "    </tr>\n",
              "    <tr>\n",
              "      <th>2032</th>\n",
              "      <td>2010-07-23</td>\n",
              "      <td>121.8</td>\n",
              "      <td>121.95</td>\n",
              "      <td>120.25</td>\n",
              "      <td>120.35</td>\n",
              "      <td>120.65</td>\n",
              "      <td>281312</td>\n",
              "      <td>340.31</td>\n",
              "    </tr>\n",
              "    <tr>\n",
              "      <th>2031</th>\n",
              "      <td>2010-07-26</td>\n",
              "      <td>120.1</td>\n",
              "      <td>121.00</td>\n",
              "      <td>117.10</td>\n",
              "      <td>117.10</td>\n",
              "      <td>117.60</td>\n",
              "      <td>658440</td>\n",
              "      <td>780.01</td>\n",
              "    </tr>\n",
              "    <tr>\n",
              "      <th>2030</th>\n",
              "      <td>2010-07-27</td>\n",
              "      <td>117.6</td>\n",
              "      <td>119.50</td>\n",
              "      <td>112.00</td>\n",
              "      <td>118.80</td>\n",
              "      <td>118.65</td>\n",
              "      <td>586100</td>\n",
              "      <td>694.98</td>\n",
              "    </tr>\n",
              "  </tbody>\n",
              "</table>\n",
              "</div>"
            ],
            "text/plain": [
              "           Date   Open    High  ...   Close  Total Trade Quantity  Turnover (Lacs)\n",
              "2034 2010-07-21  122.1  123.00  ...  121.55                658666           803.56\n",
              "2033 2010-07-22  120.3  122.00  ...  120.90                293312           355.17\n",
              "2032 2010-07-23  121.8  121.95  ...  120.65                281312           340.31\n",
              "2031 2010-07-26  120.1  121.00  ...  117.60                658440           780.01\n",
              "2030 2010-07-27  117.6  119.50  ...  118.65                586100           694.98\n",
              "\n",
              "[5 rows x 8 columns]"
            ]
          },
          "metadata": {},
          "execution_count": 7
        }
      ]
    },
    {
      "cell_type": "markdown",
      "metadata": {
        "id": "WNexZacuFPwl"
      },
      "source": [
        "Index is not in order, lets make it in order"
      ]
    },
    {
      "cell_type": "code",
      "metadata": {
        "id": "OB1JtB9sFTmE"
      },
      "source": [
        "df.reset_index(inplace=True)"
      ],
      "execution_count": 8,
      "outputs": []
    },
    {
      "cell_type": "code",
      "metadata": {
        "colab": {
          "base_uri": "https://localhost:8080/",
          "height": 206
        },
        "id": "P-aKdwVwFdIZ",
        "outputId": "21fc6720-64af-4c34-dc28-81a295405e6f"
      },
      "source": [
        "df.head()"
      ],
      "execution_count": 9,
      "outputs": [
        {
          "output_type": "execute_result",
          "data": {
            "text/html": [
              "<div>\n",
              "<style scoped>\n",
              "    .dataframe tbody tr th:only-of-type {\n",
              "        vertical-align: middle;\n",
              "    }\n",
              "\n",
              "    .dataframe tbody tr th {\n",
              "        vertical-align: top;\n",
              "    }\n",
              "\n",
              "    .dataframe thead th {\n",
              "        text-align: right;\n",
              "    }\n",
              "</style>\n",
              "<table border=\"1\" class=\"dataframe\">\n",
              "  <thead>\n",
              "    <tr style=\"text-align: right;\">\n",
              "      <th></th>\n",
              "      <th>index</th>\n",
              "      <th>Date</th>\n",
              "      <th>Open</th>\n",
              "      <th>High</th>\n",
              "      <th>Low</th>\n",
              "      <th>Last</th>\n",
              "      <th>Close</th>\n",
              "      <th>Total Trade Quantity</th>\n",
              "      <th>Turnover (Lacs)</th>\n",
              "    </tr>\n",
              "  </thead>\n",
              "  <tbody>\n",
              "    <tr>\n",
              "      <th>0</th>\n",
              "      <td>2034</td>\n",
              "      <td>2010-07-21</td>\n",
              "      <td>122.1</td>\n",
              "      <td>123.00</td>\n",
              "      <td>121.05</td>\n",
              "      <td>121.10</td>\n",
              "      <td>121.55</td>\n",
              "      <td>658666</td>\n",
              "      <td>803.56</td>\n",
              "    </tr>\n",
              "    <tr>\n",
              "      <th>1</th>\n",
              "      <td>2033</td>\n",
              "      <td>2010-07-22</td>\n",
              "      <td>120.3</td>\n",
              "      <td>122.00</td>\n",
              "      <td>120.25</td>\n",
              "      <td>120.75</td>\n",
              "      <td>120.90</td>\n",
              "      <td>293312</td>\n",
              "      <td>355.17</td>\n",
              "    </tr>\n",
              "    <tr>\n",
              "      <th>2</th>\n",
              "      <td>2032</td>\n",
              "      <td>2010-07-23</td>\n",
              "      <td>121.8</td>\n",
              "      <td>121.95</td>\n",
              "      <td>120.25</td>\n",
              "      <td>120.35</td>\n",
              "      <td>120.65</td>\n",
              "      <td>281312</td>\n",
              "      <td>340.31</td>\n",
              "    </tr>\n",
              "    <tr>\n",
              "      <th>3</th>\n",
              "      <td>2031</td>\n",
              "      <td>2010-07-26</td>\n",
              "      <td>120.1</td>\n",
              "      <td>121.00</td>\n",
              "      <td>117.10</td>\n",
              "      <td>117.10</td>\n",
              "      <td>117.60</td>\n",
              "      <td>658440</td>\n",
              "      <td>780.01</td>\n",
              "    </tr>\n",
              "    <tr>\n",
              "      <th>4</th>\n",
              "      <td>2030</td>\n",
              "      <td>2010-07-27</td>\n",
              "      <td>117.6</td>\n",
              "      <td>119.50</td>\n",
              "      <td>112.00</td>\n",
              "      <td>118.80</td>\n",
              "      <td>118.65</td>\n",
              "      <td>586100</td>\n",
              "      <td>694.98</td>\n",
              "    </tr>\n",
              "  </tbody>\n",
              "</table>\n",
              "</div>"
            ],
            "text/plain": [
              "   index       Date   Open  ...   Close  Total Trade Quantity  Turnover (Lacs)\n",
              "0   2034 2010-07-21  122.1  ...  121.55                658666           803.56\n",
              "1   2033 2010-07-22  120.3  ...  120.90                293312           355.17\n",
              "2   2032 2010-07-23  121.8  ...  120.65                281312           340.31\n",
              "3   2031 2010-07-26  120.1  ...  117.60                658440           780.01\n",
              "4   2030 2010-07-27  117.6  ...  118.65                586100           694.98\n",
              "\n",
              "[5 rows x 9 columns]"
            ]
          },
          "metadata": {},
          "execution_count": 9
        }
      ]
    },
    {
      "cell_type": "markdown",
      "metadata": {
        "id": "vgw2i3OKFlEb"
      },
      "source": [
        "Plotting the graph of stocks at Close"
      ]
    },
    {
      "cell_type": "code",
      "metadata": {
        "colab": {
          "base_uri": "https://localhost:8080/",
          "height": 284
        },
        "id": "5bZgYj7RFj7e",
        "outputId": "26568616-5639-4041-c78f-016af83a7f1e"
      },
      "source": [
        "plt.plot(df['Close'])"
      ],
      "execution_count": 10,
      "outputs": [
        {
          "output_type": "execute_result",
          "data": {
            "text/plain": [
              "[<matplotlib.lines.Line2D at 0x7f735eb09310>]"
            ]
          },
          "metadata": {},
          "execution_count": 10
        },
        {
          "output_type": "display_data",
          "data": {
            "image/png": "[encoded data removed]",
            "text/plain": [
              "<Figure size 432x288 with 1 Axes>"
            ]
          },
          "metadata": {
            "needs_background": "light"
          }
        }
      ]
    },
    {
      "cell_type": "code",
      "metadata": {
        "id": "HYRSBFAiFzRV"
      },
      "source": [
        "df1 = df['Close']"
      ],
      "execution_count": 11,
      "outputs": []
    },
    {
      "cell_type": "markdown",
      "metadata": {
        "id": "E_NKcMX0Gemr"
      },
      "source": [
        "###Feature Scaling"
      ]
    },
    {
      "cell_type": "code",
      "metadata": {
        "colab": {
          "base_uri": "https://localhost:8080/"
        },
        "id": "1kuG7DN5F82m",
        "outputId": "3d454206-e635-44ab-872e-a9ef1b99b532"
      },
      "source": [
        "scaler = MinMaxScaler(feature_range=(0,1))\n",
        "df1 = scaler.fit_transform(np.array(df1).reshape(-1,1))\n",
        "df1"
      ],
      "execution_count": 12,
      "outputs": [
        {
          "output_type": "execute_result",
          "data": {
            "text/plain": [
              "array([[0.16584967],\n",
              "       [0.16319444],\n",
              "       [0.1621732 ],\n",
              "       ...,\n",
              "       [0.62622549],\n",
              "       [0.62214052],\n",
              "       [0.62418301]])"
            ]
          },
          "metadata": {},
          "execution_count": 12
        }
      ]
    },
    {
      "cell_type": "markdown",
      "metadata": {
        "id": "mjU1WPcSGh2u"
      },
      "source": [
        "###Splitting the data into training and test sets"
      ]
    },
    {
      "cell_type": "code",
      "metadata": {
        "id": "ybijyUdPGq1f"
      },
      "source": [
        "training_size = int(len(df1)*0.70)\n",
        "test_size = len(df1) - training_size\n",
        "\n",
        "\n",
        "train_data = df1[0:training_size,:]\n",
        "test_data = df1[training_size:len(df1), :1]"
      ],
      "execution_count": 13,
      "outputs": []
    },
    {
      "cell_type": "code",
      "metadata": {
        "colab": {
          "base_uri": "https://localhost:8080/"
        },
        "id": "QSkHCl0fJRXX",
        "outputId": "453b9190-9387-49ea-98d2-10243b889e50"
      },
      "source": [
        "training_size, test_size"
      ],
      "execution_count": 14,
      "outputs": [
        {
          "output_type": "execute_result",
          "data": {
            "text/plain": [
              "(1424, 611)"
            ]
          },
          "metadata": {},
          "execution_count": 14
        }
      ]
    },
    {
      "cell_type": "code",
      "metadata": {
        "id": "fwgqCdA5JVOx"
      },
      "source": [
        "#convert an array of values into a dataset matrix\n",
        "def datasetCrtd(dataset, time_step=1):\n",
        "  dataX, dataY = [], []\n",
        "  for i in range(len(dataset)-time_step-1):\n",
        "    a = dataset[i:(i+time_step), 0]\n",
        "    dataX.append(a)\n",
        "    dataY.append(dataset[i + time_step, 0])\n",
        "\n",
        "  return np.array(dataX), np.array(dataY)"
      ],
      "execution_count": 15,
      "outputs": []
    },
    {
      "cell_type": "code",
      "metadata": {
        "id": "YMOMczvOKJHa"
      },
      "source": [
        "time_step = 100\n",
        "X_train, y_train = datasetCrtd(train_data, time_step)\n",
        "X_test, ytest = datasetCrtd(test_data, time_step)"
      ],
      "execution_count": 16,
      "outputs": []
    },
    {
      "cell_type": "code",
      "metadata": {
        "colab": {
          "base_uri": "https://localhost:8080/"
        },
        "id": "GMi_ZD8qKj94",
        "outputId": "a552add0-62a5-4a5f-c7e3-a8cff4f730ef"
      },
      "source": [
        "print(X_train.shape), print(y_train.shape)"
      ],
      "execution_count": 17,
      "outputs": [
        {
          "output_type": "stream",
          "name": "stdout",
          "text": [
            "(1323, 100)\n",
            "(1323,)\n"
          ]
        },
        {
          "output_type": "execute_result",
          "data": {
            "text/plain": [
              "(None, None)"
            ]
          },
          "metadata": {},
          "execution_count": 17
        }
      ]
    },
    {
      "cell_type": "code",
      "metadata": {
        "id": "hyZyK4WUK2ln"
      },
      "source": [
        "#Reshape input which is required for LSTM\n",
        "X_train = X_train.reshape(X_train.shape[0], X_train.shape[1], 1)\n",
        "X_test = X_test.reshape(X_test.shape[0], X_test.shape[1], 1)"
      ],
      "execution_count": 18,
      "outputs": []
    },
    {
      "cell_type": "markdown",
      "metadata": {
        "id": "QFWN8YiKLb4a"
      },
      "source": [
        "###Building the Model"
      ]
    },
    {
      "cell_type": "code",
      "metadata": {
        "id": "BsRYAsXCLWdJ"
      },
      "source": [
        "from tensorflow.keras.models import Sequential\n",
        "from tensorflow.keras.layers import Dense\n",
        "from tensorflow.keras.layers import LSTM"
      ],
      "execution_count": 19,
      "outputs": []
    },
    {
      "cell_type": "code",
      "metadata": {
        "colab": {
          "base_uri": "https://localhost:8080/"
        },
        "id": "eI-efQ1sLqID",
        "outputId": "5de24ae3-a079-4655-b91f-c7cbe9c552c5"
      },
      "source": [
        "model = Sequential()\n",
        "model.add(LSTM(50, return_sequences=True, input_shape=(100,1)))\n",
        "model.add(LSTM(50, return_sequences=True))\n",
        "model.add(LSTM(50))\n",
        "model.add(Dense(1))\n",
        "model.compile(loss='mean_squared_error', optimizer='adam')\n",
        "model.summary()"
      ],
      "execution_count": 20,
      "outputs": [
        {
          "output_type": "stream",
          "name": "stdout",
          "text": [
            "Model: \"sequential\"\n",
            "_________________________________________________________________\n",
            " Layer (type)                Output Shape              Param #   \n",
            "=================================================================\n",
            " lstm (LSTM)                 (None, 100, 50)           10400     \n",
            "                                                                 \n",
            " lstm_1 (LSTM)               (None, 100, 50)           20200     \n",
            "                                                                 \n",
            " lstm_2 (LSTM)               (None, 50)                20200     \n",
            "                                                                 \n",
            " dense (Dense)               (None, 1)                 51        \n",
            "                                                                 \n",
            "=================================================================\n",
            "Total params: 50,851\n",
            "Trainable params: 50,851\n",
            "Non-trainable params: 0\n",
            "_________________________________________________________________\n"
          ]
        }
      ]
    },
    {
      "cell_type": "code",
      "metadata": {
        "colab": {
          "base_uri": "https://localhost:8080/"
        },
        "id": "j2x7wJPnMvJg",
        "outputId": "af4adfed-b6f3-4293-a648-16438d51de69"
      },
      "source": [
        "model.fit(X_train, y_train, validation_split=0.1, epochs=60, batch_size=64, verbose=1)"
      ],
      "execution_count": 21,
      "outputs": [
        {
          "output_type": "stream",
          "name": "stdout",
          "text": [
            "Epoch 1/60\n",
            "19/19 [==============================] - 13s 147ms/step - loss: 0.0078 - val_loss: 0.0028\n",
            "Epoch 2/60\n",
            "19/19 [==============================] - 1s 74ms/step - loss: 0.0016 - val_loss: 0.0014\n",
            "Epoch 3/60\n",
            "19/19 [==============================] - 1s 74ms/step - loss: 9.5187e-04 - val_loss: 0.0012\n",
            "Epoch 4/60\n",
            "19/19 [==============================] - 1s 74ms/step - loss: 8.7717e-04 - val_loss: 0.0011\n",
            "Epoch 5/60\n",
            "19/19 [==============================] - 1s 74ms/step - loss: 8.3490e-04 - val_loss: 0.0011\n",
            "Epoch 6/60\n",
            "19/19 [==============================] - 1s 74ms/step - loss: 8.0933e-04 - val_loss: 0.0010\n",
            "Epoch 7/60\n",
            "19/19 [==============================] - 1s 75ms/step - loss: 7.7002e-04 - val_loss: 0.0010\n",
            "Epoch 8/60\n",
            "19/19 [==============================] - 1s 74ms/step - loss: 7.5062e-04 - val_loss: 0.0010\n",
            "Epoch 9/60\n",
            "19/19 [==============================] - 1s 74ms/step - loss: 7.1579e-04 - val_loss: 9.1248e-04\n",
            "Epoch 10/60\n",
            "19/19 [==============================] - 1s 77ms/step - loss: 6.9289e-04 - val_loss: 8.4824e-04\n",
            "Epoch 11/60\n",
            "19/19 [==============================] - 1s 79ms/step - loss: 6.7010e-04 - val_loss: 8.0843e-04\n",
            "Epoch 12/60\n",
            "19/19 [==============================] - 1s 73ms/step - loss: 6.5462e-04 - val_loss: 7.5147e-04\n",
            "Epoch 13/60\n",
            "19/19 [==============================] - 1s 74ms/step - loss: 6.3294e-04 - val_loss: 7.2178e-04\n",
            "Epoch 14/60\n",
            "19/19 [==============================] - 1s 73ms/step - loss: 6.1725e-04 - val_loss: 7.0905e-04\n",
            "Epoch 15/60\n",
            "19/19 [==============================] - 1s 74ms/step - loss: 6.2199e-04 - val_loss: 7.5467e-04\n",
            "Epoch 16/60\n",
            "19/19 [==============================] - 1s 74ms/step - loss: 5.8817e-04 - val_loss: 7.4379e-04\n",
            "Epoch 17/60\n",
            "19/19 [==============================] - 1s 75ms/step - loss: 5.8736e-04 - val_loss: 6.5273e-04\n",
            "Epoch 18/60\n",
            "19/19 [==============================] - 1s 73ms/step - loss: 5.4560e-04 - val_loss: 5.9567e-04\n",
            "Epoch 19/60\n",
            "19/19 [==============================] - 1s 75ms/step - loss: 5.4316e-04 - val_loss: 5.6014e-04\n",
            "Epoch 20/60\n",
            "19/19 [==============================] - 1s 75ms/step - loss: 5.3956e-04 - val_loss: 5.7070e-04\n",
            "Epoch 21/60\n",
            "19/19 [==============================] - 1s 74ms/step - loss: 5.1212e-04 - val_loss: 5.9843e-04\n",
            "Epoch 22/60\n",
            "19/19 [==============================] - 1s 73ms/step - loss: 4.9957e-04 - val_loss: 5.3052e-04\n",
            "Epoch 23/60\n",
            "19/19 [==============================] - 1s 74ms/step - loss: 5.1012e-04 - val_loss: 5.5730e-04\n",
            "Epoch 24/60\n",
            "19/19 [==============================] - 1s 74ms/step - loss: 4.7460e-04 - val_loss: 4.9015e-04\n",
            "Epoch 25/60\n",
            "19/19 [==============================] - 1s 73ms/step - loss: 4.7354e-04 - val_loss: 5.2960e-04\n",
            "Epoch 26/60\n",
            "19/19 [==============================] - 1s 73ms/step - loss: 4.7874e-04 - val_loss: 4.8463e-04\n",
            "Epoch 27/60\n",
            "19/19 [==============================] - 1s 74ms/step - loss: 4.5307e-04 - val_loss: 5.5294e-04\n",
            "Epoch 28/60\n",
            "19/19 [==============================] - 1s 75ms/step - loss: 4.7842e-04 - val_loss: 4.4277e-04\n",
            "Epoch 29/60\n",
            "19/19 [==============================] - 1s 74ms/step - loss: 4.7368e-04 - val_loss: 5.1717e-04\n",
            "Epoch 30/60\n",
            "19/19 [==============================] - 1s 74ms/step - loss: 4.2462e-04 - val_loss: 4.2084e-04\n",
            "Epoch 31/60\n",
            "19/19 [==============================] - 1s 73ms/step - loss: 4.2268e-04 - val_loss: 4.2724e-04\n",
            "Epoch 32/60\n",
            "19/19 [==============================] - 1s 73ms/step - loss: 3.8689e-04 - val_loss: 3.9057e-04\n",
            "Epoch 33/60\n",
            "19/19 [==============================] - 1s 74ms/step - loss: 3.8180e-04 - val_loss: 3.8188e-04\n",
            "Epoch 34/60\n",
            "19/19 [==============================] - 1s 73ms/step - loss: 3.7149e-04 - val_loss: 3.7405e-04\n",
            "Epoch 35/60\n",
            "19/19 [==============================] - 1s 74ms/step - loss: 3.5368e-04 - val_loss: 4.8342e-04\n",
            "Epoch 36/60\n",
            "19/19 [==============================] - 1s 74ms/step - loss: 3.4890e-04 - val_loss: 3.3333e-04\n",
            "Epoch 37/60\n",
            "19/19 [==============================] - 1s 75ms/step - loss: 3.4990e-04 - val_loss: 3.4098e-04\n",
            "Epoch 38/60\n",
            "19/19 [==============================] - 1s 74ms/step - loss: 3.5917e-04 - val_loss: 3.1170e-04\n",
            "Epoch 39/60\n",
            "19/19 [==============================] - 1s 74ms/step - loss: 3.3916e-04 - val_loss: 2.9984e-04\n",
            "Epoch 40/60\n",
            "19/19 [==============================] - 1s 73ms/step - loss: 3.4228e-04 - val_loss: 3.0396e-04\n",
            "Epoch 41/60\n",
            "19/19 [==============================] - 1s 74ms/step - loss: 3.3278e-04 - val_loss: 3.3610e-04\n",
            "Epoch 42/60\n",
            "19/19 [==============================] - 1s 74ms/step - loss: 3.0410e-04 - val_loss: 2.7312e-04\n",
            "Epoch 43/60\n",
            "19/19 [==============================] - 1s 74ms/step - loss: 2.9097e-04 - val_loss: 3.1983e-04\n",
            "Epoch 44/60\n",
            "19/19 [==============================] - 1s 73ms/step - loss: 2.8678e-04 - val_loss: 2.6524e-04\n",
            "Epoch 45/60\n",
            "19/19 [==============================] - 1s 74ms/step - loss: 3.1244e-04 - val_loss: 2.4679e-04\n",
            "Epoch 46/60\n",
            "19/19 [==============================] - 1s 73ms/step - loss: 2.9263e-04 - val_loss: 2.3951e-04\n",
            "Epoch 47/60\n",
            "19/19 [==============================] - 1s 74ms/step - loss: 2.6591e-04 - val_loss: 2.7274e-04\n",
            "Epoch 48/60\n",
            "19/19 [==============================] - 1s 74ms/step - loss: 2.9845e-04 - val_loss: 2.3136e-04\n",
            "Epoch 49/60\n",
            "19/19 [==============================] - 1s 73ms/step - loss: 2.5375e-04 - val_loss: 2.2119e-04\n",
            "Epoch 50/60\n",
            "19/19 [==============================] - 1s 74ms/step - loss: 2.5967e-04 - val_loss: 2.3758e-04\n",
            "Epoch 51/60\n",
            "19/19 [==============================] - 1s 74ms/step - loss: 2.4515e-04 - val_loss: 2.0524e-04\n",
            "Epoch 52/60\n",
            "19/19 [==============================] - 1s 74ms/step - loss: 2.6096e-04 - val_loss: 2.2692e-04\n",
            "Epoch 53/60\n",
            "19/19 [==============================] - 1s 74ms/step - loss: 2.8615e-04 - val_loss: 2.2706e-04\n",
            "Epoch 54/60\n",
            "19/19 [==============================] - 1s 74ms/step - loss: 2.6179e-04 - val_loss: 2.6211e-04\n",
            "Epoch 55/60\n",
            "19/19 [==============================] - 1s 73ms/step - loss: 2.5271e-04 - val_loss: 2.1516e-04\n",
            "Epoch 56/60\n",
            "19/19 [==============================] - 1s 75ms/step - loss: 2.2317e-04 - val_loss: 1.9910e-04\n",
            "Epoch 57/60\n",
            "19/19 [==============================] - 1s 74ms/step - loss: 2.2253e-04 - val_loss: 2.0137e-04\n",
            "Epoch 58/60\n",
            "19/19 [==============================] - 1s 75ms/step - loss: 2.1352e-04 - val_loss: 2.2279e-04\n",
            "Epoch 59/60\n",
            "19/19 [==============================] - 1s 74ms/step - loss: 2.1186e-04 - val_loss: 2.1852e-04\n",
            "Epoch 60/60\n",
            "19/19 [==============================] - 1s 73ms/step - loss: 2.0132e-04 - val_loss: 1.7137e-04\n"
          ]
        },
        {
          "output_type": "execute_result",
          "data": {
            "text/plain": [
              "<keras.callbacks.History at 0x7f72f05efd90>"
            ]
          },
          "metadata": {},
          "execution_count": 21
        }
      ]
    },
    {
      "cell_type": "code",
      "metadata": {
        "id": "NFwfdx4LNqB_"
      },
      "source": [
        "#Prediction of scaled test set\n",
        "test_predict = model.predict(X_test)"
      ],
      "execution_count": 24,
      "outputs": []
    },
    {
      "cell_type": "code",
      "metadata": {
        "id": "rEex6ibwNwKo"
      },
      "source": [
        "#transform to original test set\n",
        "test_predict1 = scaler.inverse_transform(test_predict)"
      ],
      "execution_count": 25,
      "outputs": []
    },
    {
      "cell_type": "code",
      "metadata": {
        "colab": {
          "base_uri": "https://localhost:8080/"
        },
        "id": "iQf0eqXIPtPj",
        "outputId": "9d525ed5-8d2e-41db-b788-054b7397713f"
      },
      "source": [
        "test_predict1"
      ],
      "execution_count": 26,
      "outputs": [
        {
          "output_type": "execute_result",
          "data": {
            "text/plain": [
              "array([[141.79565 ],\n",
              "       [142.00833 ],\n",
              "       [141.1547  ],\n",
              "       [138.57143 ],\n",
              "       [136.88652 ],\n",
              "       [136.24747 ],\n",
              "       [137.3057  ],\n",
              "       [138.84824 ],\n",
              "       [139.34406 ],\n",
              "       [139.09323 ],\n",
              "       [138.88065 ],\n",
              "       [139.97676 ],\n",
              "       [140.71533 ],\n",
              "       [142.23383 ],\n",
              "       [144.38419 ],\n",
              "       [142.52332 ],\n",
              "       [140.18213 ],\n",
              "       [139.69125 ],\n",
              "       [140.18018 ],\n",
              "       [144.99992 ],\n",
              "       [149.4319  ],\n",
              "       [151.80486 ],\n",
              "       [152.32486 ],\n",
              "       [150.32524 ],\n",
              "       [149.96947 ],\n",
              "       [149.57024 ],\n",
              "       [149.8712  ],\n",
              "       [151.50867 ],\n",
              "       [152.30875 ],\n",
              "       [152.41486 ],\n",
              "       [152.83224 ],\n",
              "       [151.7059  ],\n",
              "       [148.52626 ],\n",
              "       [142.94005 ],\n",
              "       [139.42102 ],\n",
              "       [138.22433 ],\n",
              "       [138.27019 ],\n",
              "       [137.57265 ],\n",
              "       [135.4895  ],\n",
              "       [132.02122 ],\n",
              "       [129.49265 ],\n",
              "       [128.15675 ],\n",
              "       [126.05988 ],\n",
              "       [125.16666 ],\n",
              "       [123.21244 ],\n",
              "       [120.7122  ],\n",
              "       [119.925705],\n",
              "       [119.55955 ],\n",
              "       [119.76312 ],\n",
              "       [118.92808 ],\n",
              "       [118.11186 ],\n",
              "       [117.69018 ],\n",
              "       [116.905205],\n",
              "       [116.971756],\n",
              "       [118.18015 ],\n",
              "       [119.89552 ],\n",
              "       [121.81755 ],\n",
              "       [122.69754 ],\n",
              "       [122.58144 ],\n",
              "       [122.60492 ],\n",
              "       [122.728874],\n",
              "       [122.56752 ],\n",
              "       [122.744774],\n",
              "       [123.136536],\n",
              "       [123.38408 ],\n",
              "       [123.489845],\n",
              "       [123.35586 ],\n",
              "       [123.64471 ],\n",
              "       [124.08165 ],\n",
              "       [124.44343 ],\n",
              "       [123.77487 ],\n",
              "       [122.84251 ],\n",
              "       [121.52262 ],\n",
              "       [120.26102 ],\n",
              "       [118.94262 ],\n",
              "       [118.93969 ],\n",
              "       [119.43776 ],\n",
              "       [120.36591 ],\n",
              "       [121.46102 ],\n",
              "       [122.701706],\n",
              "       [123.867905],\n",
              "       [124.59377 ],\n",
              "       [125.0345  ],\n",
              "       [125.034805],\n",
              "       [124.82739 ],\n",
              "       [124.52121 ],\n",
              "       [125.18308 ],\n",
              "       [125.52294 ],\n",
              "       [126.45561 ],\n",
              "       [127.28175 ],\n",
              "       [127.74565 ],\n",
              "       [128.19743 ],\n",
              "       [129.09773 ],\n",
              "       [128.73099 ],\n",
              "       [128.20387 ],\n",
              "       [128.03593 ],\n",
              "       [128.11508 ],\n",
              "       [128.54509 ],\n",
              "       [129.40372 ],\n",
              "       [129.7159  ],\n",
              "       [129.9761  ],\n",
              "       [132.51125 ],\n",
              "       [136.85394 ],\n",
              "       [140.85765 ],\n",
              "       [142.71288 ],\n",
              "       [144.26553 ],\n",
              "       [144.41016 ],\n",
              "       [143.76637 ],\n",
              "       [142.35371 ],\n",
              "       [140.92146 ],\n",
              "       [139.29971 ],\n",
              "       [138.7591  ],\n",
              "       [139.10301 ],\n",
              "       [140.29776 ],\n",
              "       [141.49992 ],\n",
              "       [141.6705  ],\n",
              "       [140.96771 ],\n",
              "       [139.98273 ],\n",
              "       [138.93184 ],\n",
              "       [140.11943 ],\n",
              "       [141.1398  ],\n",
              "       [142.31004 ],\n",
              "       [143.07771 ],\n",
              "       [143.13353 ],\n",
              "       [142.3208  ],\n",
              "       [141.1862  ],\n",
              "       [139.07916 ],\n",
              "       [138.13303 ],\n",
              "       [138.69928 ],\n",
              "       [141.1239  ],\n",
              "       [143.60399 ],\n",
              "       [145.66603 ],\n",
              "       [146.5051  ],\n",
              "       [145.35507 ],\n",
              "       [146.75737 ],\n",
              "       [148.84848 ],\n",
              "       [149.33006 ],\n",
              "       [149.50017 ],\n",
              "       [149.57948 ],\n",
              "       [149.44958 ],\n",
              "       [149.45876 ],\n",
              "       [150.10501 ],\n",
              "       [151.13371 ],\n",
              "       [152.0941  ],\n",
              "       [151.6858  ],\n",
              "       [150.92825 ],\n",
              "       [151.33893 ],\n",
              "       [151.53146 ],\n",
              "       [150.99313 ],\n",
              "       [149.9387  ],\n",
              "       [148.61806 ],\n",
              "       [148.52235 ],\n",
              "       [149.83316 ],\n",
              "       [150.92058 ],\n",
              "       [151.62373 ],\n",
              "       [151.74411 ],\n",
              "       [152.30542 ],\n",
              "       [152.194   ],\n",
              "       [152.12582 ],\n",
              "       [153.93068 ],\n",
              "       [155.2954  ],\n",
              "       [155.42078 ],\n",
              "       [153.7028  ],\n",
              "       [152.02165 ],\n",
              "       [151.74878 ],\n",
              "       [152.6145  ],\n",
              "       [153.31207 ],\n",
              "       [153.09358 ],\n",
              "       [153.33289 ],\n",
              "       [153.6846  ],\n",
              "       [153.26923 ],\n",
              "       [150.54294 ],\n",
              "       [148.66489 ],\n",
              "       [147.43594 ],\n",
              "       [145.83876 ],\n",
              "       [143.58038 ],\n",
              "       [142.44785 ],\n",
              "       [143.76277 ],\n",
              "       [145.18312 ],\n",
              "       [145.99722 ],\n",
              "       [147.5576  ],\n",
              "       [149.97691 ],\n",
              "       [152.67444 ],\n",
              "       [154.3126  ],\n",
              "       [153.86993 ],\n",
              "       [153.57384 ],\n",
              "       [153.1813  ],\n",
              "       [152.83064 ],\n",
              "       [151.81137 ],\n",
              "       [152.70085 ],\n",
              "       [155.08243 ],\n",
              "       [157.44377 ],\n",
              "       [158.40324 ],\n",
              "       [157.55382 ],\n",
              "       [156.44446 ],\n",
              "       [155.73604 ],\n",
              "       [154.69762 ],\n",
              "       [152.51291 ],\n",
              "       [149.29857 ],\n",
              "       [147.763   ],\n",
              "       [147.50772 ],\n",
              "       [148.75092 ],\n",
              "       [150.54967 ],\n",
              "       [151.20189 ],\n",
              "       [153.30005 ],\n",
              "       [154.12622 ],\n",
              "       [155.52092 ],\n",
              "       [160.14265 ],\n",
              "       [165.51259 ],\n",
              "       [170.43814 ],\n",
              "       [173.4763  ],\n",
              "       [173.5258  ],\n",
              "       [173.41168 ],\n",
              "       [171.87582 ],\n",
              "       [171.16939 ],\n",
              "       [169.63953 ],\n",
              "       [169.1127  ],\n",
              "       [168.56888 ],\n",
              "       [168.98692 ],\n",
              "       [170.27489 ],\n",
              "       [169.64566 ],\n",
              "       [168.78183 ],\n",
              "       [168.43753 ],\n",
              "       [167.48865 ],\n",
              "       [165.55087 ],\n",
              "       [164.74802 ],\n",
              "       [164.73483 ],\n",
              "       [166.77957 ],\n",
              "       [166.75716 ],\n",
              "       [163.96454 ],\n",
              "       [158.66713 ],\n",
              "       [158.29898 ],\n",
              "       [166.77917 ],\n",
              "       [182.37527 ],\n",
              "       [191.9769  ],\n",
              "       [195.09792 ],\n",
              "       [194.25961 ],\n",
              "       [188.5901  ],\n",
              "       [187.24219 ],\n",
              "       [187.41324 ],\n",
              "       [187.81783 ],\n",
              "       [187.02805 ],\n",
              "       [190.15067 ],\n",
              "       [194.03989 ],\n",
              "       [195.92725 ],\n",
              "       [193.64699 ],\n",
              "       [192.71852 ],\n",
              "       [197.75873 ],\n",
              "       [202.03934 ],\n",
              "       [203.83392 ],\n",
              "       [204.69254 ],\n",
              "       [206.0288  ],\n",
              "       [203.86745 ],\n",
              "       [204.22911 ],\n",
              "       [204.59618 ],\n",
              "       [206.3582  ],\n",
              "       [209.3903  ],\n",
              "       [209.66159 ],\n",
              "       [207.84892 ],\n",
              "       [200.10043 ],\n",
              "       [192.52419 ],\n",
              "       [194.40158 ],\n",
              "       [195.67389 ],\n",
              "       [198.58232 ],\n",
              "       [202.03911 ],\n",
              "       [203.83508 ],\n",
              "       [202.72101 ],\n",
              "       [203.27786 ],\n",
              "       [203.9194  ],\n",
              "       [203.17465 ],\n",
              "       [202.33139 ],\n",
              "       [202.53877 ],\n",
              "       [204.58383 ],\n",
              "       [205.19423 ],\n",
              "       [204.59145 ],\n",
              "       [204.40826 ],\n",
              "       [202.58076 ],\n",
              "       [200.06775 ],\n",
              "       [198.13246 ],\n",
              "       [201.41086 ],\n",
              "       [202.37874 ],\n",
              "       [204.34244 ],\n",
              "       [211.55829 ],\n",
              "       [219.74602 ],\n",
              "       [222.74573 ],\n",
              "       [221.79468 ],\n",
              "       [218.68033 ],\n",
              "       [215.93565 ],\n",
              "       [220.9212  ],\n",
              "       [219.81802 ],\n",
              "       [217.27092 ],\n",
              "       [226.1346  ],\n",
              "       [230.72868 ],\n",
              "       [229.44023 ],\n",
              "       [234.4941  ],\n",
              "       [240.61517 ],\n",
              "       [242.97984 ],\n",
              "       [247.052   ],\n",
              "       [258.05124 ],\n",
              "       [261.6144  ],\n",
              "       [260.12555 ],\n",
              "       [258.35385 ],\n",
              "       [260.4724  ],\n",
              "       [261.62845 ],\n",
              "       [269.15958 ],\n",
              "       [267.90256 ],\n",
              "       [269.9039  ],\n",
              "       [268.8415  ],\n",
              "       [264.5286  ],\n",
              "       [263.49167 ],\n",
              "       [261.02484 ],\n",
              "       [266.73483 ],\n",
              "       [273.52908 ],\n",
              "       [281.73502 ],\n",
              "       [275.7736  ],\n",
              "       [267.29565 ],\n",
              "       [264.46558 ],\n",
              "       [267.54913 ],\n",
              "       [273.21326 ],\n",
              "       [282.23303 ],\n",
              "       [284.83945 ],\n",
              "       [282.34668 ],\n",
              "       [281.5862  ],\n",
              "       [283.76813 ],\n",
              "       [284.61533 ],\n",
              "       [285.32758 ],\n",
              "       [292.58566 ],\n",
              "       [293.04318 ],\n",
              "       [289.93668 ],\n",
              "       [288.4894  ],\n",
              "       [289.58624 ],\n",
              "       [291.23196 ],\n",
              "       [295.23175 ],\n",
              "       [294.81265 ],\n",
              "       [292.57196 ],\n",
              "       [291.04398 ],\n",
              "       [299.93607 ],\n",
              "       [301.81177 ],\n",
              "       [295.23962 ],\n",
              "       [289.85614 ],\n",
              "       [283.634   ],\n",
              "       [285.38986 ],\n",
              "       [288.9002  ],\n",
              "       [289.17883 ],\n",
              "       [286.26462 ],\n",
              "       [284.68393 ],\n",
              "       [282.72586 ],\n",
              "       [283.7451  ],\n",
              "       [275.0455  ],\n",
              "       [269.50235 ],\n",
              "       [260.11884 ],\n",
              "       [256.87814 ],\n",
              "       [254.31342 ],\n",
              "       [263.97943 ],\n",
              "       [269.76135 ],\n",
              "       [267.6677  ],\n",
              "       [268.57806 ],\n",
              "       [266.35092 ],\n",
              "       [262.19876 ],\n",
              "       [258.21536 ],\n",
              "       [252.42088 ],\n",
              "       [247.85365 ],\n",
              "       [250.75038 ],\n",
              "       [251.35664 ],\n",
              "       [257.01825 ],\n",
              "       [261.68777 ],\n",
              "       [262.88293 ],\n",
              "       [261.64972 ],\n",
              "       [259.45193 ],\n",
              "       [258.80402 ],\n",
              "       [258.07278 ],\n",
              "       [254.54538 ],\n",
              "       [256.51068 ],\n",
              "       [255.59534 ],\n",
              "       [260.1477  ],\n",
              "       [264.41342 ],\n",
              "       [265.25464 ],\n",
              "       [264.77682 ],\n",
              "       [258.8993  ],\n",
              "       [247.70401 ],\n",
              "       [245.10948 ],\n",
              "       [248.67946 ],\n",
              "       [249.18147 ],\n",
              "       [248.19931 ],\n",
              "       [250.44182 ],\n",
              "       [252.72864 ],\n",
              "       [249.41003 ],\n",
              "       [258.5256  ],\n",
              "       [262.59366 ],\n",
              "       [258.24472 ],\n",
              "       [256.1055  ],\n",
              "       [255.90865 ],\n",
              "       [260.0983  ],\n",
              "       [261.14288 ],\n",
              "       [259.5852  ],\n",
              "       [258.69077 ],\n",
              "       [260.0024  ],\n",
              "       [263.9528  ],\n",
              "       [266.5304  ],\n",
              "       [268.68518 ],\n",
              "       [270.14804 ],\n",
              "       [269.94067 ],\n",
              "       [267.26572 ],\n",
              "       [265.66568 ],\n",
              "       [270.0234  ],\n",
              "       [274.30826 ],\n",
              "       [275.831   ],\n",
              "       [278.98267 ],\n",
              "       [276.3347  ],\n",
              "       [269.62067 ],\n",
              "       [268.1635  ],\n",
              "       [274.30872 ],\n",
              "       [274.85333 ],\n",
              "       [275.2017  ],\n",
              "       [270.38586 ],\n",
              "       [269.48828 ],\n",
              "       [248.08475 ],\n",
              "       [229.27188 ],\n",
              "       [226.26288 ],\n",
              "       [235.97842 ],\n",
              "       [241.58517 ],\n",
              "       [241.13356 ],\n",
              "       [240.6231  ],\n",
              "       [241.14066 ],\n",
              "       [243.09152 ],\n",
              "       [245.23169 ],\n",
              "       [246.94325 ],\n",
              "       [244.7007  ],\n",
              "       [247.30746 ],\n",
              "       [252.73245 ],\n",
              "       [251.15486 ],\n",
              "       [243.42624 ],\n",
              "       [245.7819  ],\n",
              "       [251.39021 ],\n",
              "       [255.1073  ],\n",
              "       [255.53636 ],\n",
              "       [252.31818 ],\n",
              "       [252.85675 ],\n",
              "       [255.39961 ],\n",
              "       [262.09518 ],\n",
              "       [260.98053 ],\n",
              "       [260.25592 ],\n",
              "       [254.34265 ],\n",
              "       [247.20268 ],\n",
              "       [243.87956 ],\n",
              "       [247.63788 ],\n",
              "       [252.96457 ],\n",
              "       [256.87952 ],\n",
              "       [255.94345 ],\n",
              "       [252.49467 ],\n",
              "       [253.9606  ],\n",
              "       [252.12949 ],\n",
              "       [261.70648 ],\n",
              "       [264.8061  ],\n",
              "       [259.07883 ],\n",
              "       [251.54503 ],\n",
              "       [255.58119 ],\n",
              "       [259.9994  ],\n",
              "       [258.1101  ],\n",
              "       [252.91864 ],\n",
              "       [246.60686 ],\n",
              "       [234.43399 ],\n",
              "       [233.50412 ],\n",
              "       [231.37163 ],\n",
              "       [227.36954 ],\n",
              "       [229.6083  ],\n",
              "       [235.24576 ],\n",
              "       [239.44489 ],\n",
              "       [233.44402 ],\n",
              "       [228.88098 ],\n",
              "       [229.49931 ],\n",
              "       [231.07416 ],\n",
              "       [234.8435  ],\n",
              "       [229.57918 ],\n",
              "       [224.94989 ],\n",
              "       [223.55869 ],\n",
              "       [227.58133 ],\n",
              "       [229.76698 ],\n",
              "       [229.17192 ],\n",
              "       [228.66238 ],\n",
              "       [226.05801 ],\n",
              "       [225.06244 ],\n",
              "       [227.2088  ],\n",
              "       [230.09752 ],\n",
              "       [233.50278 ],\n",
              "       [235.93628 ],\n",
              "       [233.14592 ],\n",
              "       [227.0667  ],\n",
              "       [221.34822 ],\n",
              "       [223.8649  ],\n",
              "       [225.55774 ],\n",
              "       [226.90239 ],\n",
              "       [228.3468  ],\n",
              "       [227.69618 ],\n",
              "       [228.0539  ],\n",
              "       [220.17613 ],\n",
              "       [213.96304 ],\n",
              "       [211.93576 ],\n",
              "       [214.14221 ],\n",
              "       [216.11499 ],\n",
              "       [213.25189 ],\n",
              "       [214.51286 ],\n",
              "       [223.08345 ],\n",
              "       [229.86969 ],\n",
              "       [229.94403 ],\n",
              "       [226.88982 ],\n",
              "       [224.17113 ],\n",
              "       [222.43654 ],\n",
              "       [224.16167 ],\n",
              "       [225.17256 ]], dtype=float32)"
            ]
          },
          "metadata": {},
          "execution_count": 26
        }
      ]
    },
    {
      "cell_type": "markdown",
      "metadata": {
        "id": "_rOYINygP5nT"
      },
      "source": [
        "###Performance Metrics"
      ]
    },
    {
      "cell_type": "markdown",
      "metadata": {
        "id": "PkQlBSUiTjo0"
      },
      "source": [
        "Mean Square error"
      ]
    },
    {
      "cell_type": "code",
      "metadata": {
        "colab": {
          "base_uri": "https://localhost:8080/"
        },
        "id": "MJTQ33LMP83c",
        "outputId": "cec97617-17b6-4b14-d591-4eb304ebe688"
      },
      "source": [
        "import math\n",
        "from sklearn.metrics import mean_squared_error\n",
        "import sklearn.metrics as metrics\n",
        "math.sqrt(mean_squared_error(ytest, test_predict)) # MSE Is low "
      ],
      "execution_count": 31,
      "outputs": [
        {
          "output_type": "execute_result",
          "data": {
            "text/plain": [
              "0.04412902978687998"
            ]
          },
          "metadata": {},
          "execution_count": 31
        }
      ]
    }
  ]
}